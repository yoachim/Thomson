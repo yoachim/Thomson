{
 "cells": [
  {
   "cell_type": "code",
   "execution_count": null,
   "metadata": {},
   "outputs": [],
   "source": [
    "# Try to use the solution at:\n",
    "# https://www.ncbi.nlm.nih.gov/pmc/articles/PMC3079956/"
   ]
  },
  {
   "cell_type": "code",
   "execution_count": 13,
   "metadata": {},
   "outputs": [],
   "source": [
    "import numpy as np\n",
    "from scipy.special import ellipe, ellipk"
   ]
  },
  {
   "cell_type": "code",
   "execution_count": 21,
   "metadata": {},
   "outputs": [],
   "source": [
    "# try to iteratively solve for m\n",
    "\n",
    "def k_m(m, n):\n",
    "    \"\"\"\n",
    "    Parameters\n",
    "    ----------\n",
    "    m : float\n",
    "        The value to iterate\n",
    "    n : int\n",
    "        The number of points on the sphere\n",
    "    \"\"\"\n",
    "    numerator = m*np.pi*n\n",
    "    numerator *= (2.*ellipe(-m**2) - ellipk(-m**2))\n",
    "    denom = n*np.pi*ellipe(-m**2)\n",
    "    denom -= n*np.pi*ellipk(-m**2)\n",
    "    denom += m*ellipe(-m**2)**2\n",
    "    result = numerator/denom\n",
    "    return result"
   ]
  },
  {
   "cell_type": "code",
   "execution_count": 26,
   "metadata": {},
   "outputs": [],
   "source": [
    "# So, I should wrap all this up with a tolerance kwarg\n",
    "n = 200.\n",
    "# Let's try to iterate this thing\n",
    "m_old = np.sqrt(n*np.pi)\n",
    "ms = [m_old]\n",
    "for i in range(10):\n",
    "    ms.append(k_m(ms[-1], n))\n",
    "    "
   ]
  },
  {
   "cell_type": "code",
   "execution_count": 30,
   "metadata": {},
   "outputs": [],
   "source": [
    "def k_theta(theta, m):\n",
    "    \"\"\"\n",
    "    Parameters\n",
    "    \"\"\"\n",
    "    # I could make this a class and make j just once\n",
    "    j = np.arange(theta.size)+1\n",
    "    result = theta\n",
    "    numerator = (2.*j-1)*np.pi - m*S(theta)\n",
    "    denom = m*np.sqrt(1.+m**2*np.sin(theta)**2)\n",
    "    result += numerator/denom\n",
    "    return result\n"
   ]
  },
  {
   "cell_type": "code",
   "execution_count": 28,
   "metadata": {},
   "outputs": [],
   "source": [
    "j = np.arange(n)+1\n",
    "theta_init = np.arccos(1.-(2*j-1)/n)"
   ]
  },
  {
   "cell_type": "code",
   "execution_count": 29,
   "metadata": {},
   "outputs": [
    {
     "data": {
      "text/plain": [
       "array([ 0.10004171,  0.17342232,  0.22407529,  0.26535295,  0.30113655,\n",
       "        0.33320172,  0.36253726,  0.38976073,  0.41528841,  0.43941661,\n",
       "        0.46236512,  0.48430232,  0.50536051,  0.52564596,  0.54524549,\n",
       "        0.56423116,  0.58266354,  0.60059413,  0.61806713,  0.63512086,\n",
       "        0.65178875,  0.6681002 ,  0.68408123,  0.699755  ,  0.71514221,\n",
       "        0.73026149,  0.74512965,  0.75976193,  0.77417222,  0.78837318,\n",
       "        0.80237643,  0.81619263,  0.82983162,  0.84330251,  0.85661371,\n",
       "        0.86977304,  0.88278781,  0.89566479,  0.90841036,  0.92103046,\n",
       "        0.93353068,  0.94591627,  0.95819218,  0.97036307,  0.98243336,\n",
       "        0.99440721,  1.00628858,  1.01808121,  1.02978868,  1.04141436,\n",
       "        1.0529615 ,  1.06443316,  1.0758323 ,  1.08716172,  1.09842411,\n",
       "        1.10962207,  1.12075805,  1.13183444,  1.14285352,  1.1538175 ,\n",
       "        1.16472848,  1.1755885 ,  1.18639955,  1.19716352,  1.20788226,\n",
       "        1.21855754,  1.2291911 ,  1.2397846 ,  1.25033967,  1.2608579 ,\n",
       "        1.27134081,  1.2817899 ,  1.29220662,  1.3025924 ,  1.31294862,\n",
       "        1.32327663,  1.33357776,  1.34385329,  1.3541045 ,  1.36433262,\n",
       "        1.37453888,  1.38472446,  1.39489056,  1.40503832,  1.41516887,\n",
       "        1.42528335,  1.43538286,  1.4454685 ,  1.45554133,  1.46560243,\n",
       "        1.47565285,  1.48569364,  1.49572584,  1.50575047,  1.51576856,\n",
       "        1.52578113,  1.53578918,  1.54579372,  1.55579576,  1.56579631,\n",
       "        1.57579635,  1.58579689,  1.59579893,  1.60580348,  1.61581153,\n",
       "        1.62582409,  1.63584218,  1.64586682,  1.65589902,  1.66593981,\n",
       "        1.67599023,  1.68605133,  1.69612416,  1.70620979,  1.7163093 ,\n",
       "        1.72642378,  1.73655434,  1.74670209,  1.75686819,  1.76705378,\n",
       "        1.77726003,  1.78748816,  1.79773936,  1.80801489,  1.81831602,\n",
       "        1.82864403,  1.83900025,  1.84938603,  1.85980275,  1.87025185,\n",
       "        1.88073476,  1.89125298,  1.90180805,  1.91240156,  1.92303511,\n",
       "        1.93371039,  1.94442913,  1.9551931 ,  1.96600415,  1.97686418,\n",
       "        1.98777516,  1.99873913,  2.00975821,  2.0208346 ,  2.03197059,\n",
       "        2.04316854,  2.05443094,  2.06576036,  2.07715949,  2.08863116,\n",
       "        2.10017829,  2.11180398,  2.12351144,  2.13530407,  2.14718544,\n",
       "        2.15915929,  2.17122958,  2.18340047,  2.19567638,  2.20806198,\n",
       "        2.22056219,  2.23318229,  2.24592786,  2.25880485,  2.27181961,\n",
       "        2.28497895,  2.29829014,  2.31176103,  2.32540003,  2.33921623,\n",
       "        2.35321947,  2.36742043,  2.38183072,  2.39646301,  2.41133117,\n",
       "        2.42645045,  2.44183766,  2.45751142,  2.47349245,  2.48980391,\n",
       "        2.5064718 ,  2.52352552,  2.54099853,  2.55892911,  2.57736149,\n",
       "        2.59634717,  2.6159467 ,  2.63623214,  2.65729034,  2.67922753,\n",
       "        2.70217605,  2.72630425,  2.75183192,  2.77905539,  2.80839093,\n",
       "        2.84045611,  2.8762397 ,  2.91751737,  2.96817033,  3.04155094])"
      ]
     },
     "execution_count": 29,
     "metadata": {},
     "output_type": "execute_result"
    }
   ],
   "source": []
  },
  {
   "cell_type": "code",
   "execution_count": null,
   "metadata": {},
   "outputs": [],
   "source": [
    "phi = m*theta"
   ]
  }
 ],
 "metadata": {
  "kernelspec": {
   "display_name": "Python 3",
   "language": "python",
   "name": "python3"
  },
  "language_info": {
   "codemirror_mode": {
    "name": "ipython",
    "version": 3
   },
   "file_extension": ".py",
   "mimetype": "text/x-python",
   "name": "python",
   "nbconvert_exporter": "python",
   "pygments_lexer": "ipython3",
   "version": "3.6.2"
  }
 },
 "nbformat": 4,
 "nbformat_minor": 2
}
