{
 "cells": [
  {
   "cell_type": "code",
   "execution_count": 1,
   "metadata": {},
   "outputs": [],
   "source": [
    "# Try to use the solution at:\n",
    "# https://www.ncbi.nlm.nih.gov/pmc/articles/PMC3079956/"
   ]
  },
  {
   "cell_type": "code",
   "execution_count": 1,
   "metadata": {},
   "outputs": [],
   "source": [
    "import numpy as np\n",
    "from scipy.special import ellipe, ellipk, ellipeinc\n",
    "%matplotlib inline\n",
    "import matplotlib.pylab as plt"
   ]
  },
  {
   "cell_type": "code",
   "execution_count": 3,
   "metadata": {},
   "outputs": [],
   "source": [
    "# try to iteratively solve for m\n",
    "\n",
    "def k_m(m, n):\n",
    "    \"\"\"\n",
    "    Parameters\n",
    "    ----------\n",
    "    m : float\n",
    "        The value to iterate\n",
    "    n : int\n",
    "        The number of points on the sphere\n",
    "    \"\"\"\n",
    "    numerator = m*np.pi*n\n",
    "    numerator *= (2.*ellipe(-m**2) - ellipk(-m**2))\n",
    "    denom = n*np.pi*ellipe(-m**2)\n",
    "    denom -= n*np.pi*ellipk(-m**2)\n",
    "    denom += m*ellipe(-m**2)**2\n",
    "    result = numerator/denom\n",
    "    return result"
   ]
  },
  {
   "cell_type": "code",
   "execution_count": null,
   "metadata": {},
   "outputs": [],
   "source": []
  },
  {
   "cell_type": "code",
   "execution_count": 4,
   "metadata": {},
   "outputs": [],
   "source": [
    "# So, I should wrap all this up with a tolerance kwarg\n",
    "n = 20.\n",
    "# Let's try to iterate this thing\n",
    "m_old = np.sqrt(n*np.pi)\n",
    "ms = [m_old]\n",
    "for i in range(10):\n",
    "    ms.append(k_m(ms[-1], n))\n",
    "    "
   ]
  },
  {
   "cell_type": "code",
   "execution_count": 5,
   "metadata": {},
   "outputs": [],
   "source": [
    "def S_length(theta, m):\n",
    "    \"\"\"\n",
    "    Where theta is an array\n",
    "    \"\"\"\n",
    "    case1 = np.where((theta > np.pi/2.) & (theta <= np.pi))\n",
    "    case2 = np.where((theta >= 0.) & (theta <= np.pi/2.))\n",
    "    \n",
    "    result = theta*0\n",
    "    result[case1] = 2.*ellipe(-m**2) - ellipeinc(np.pi-theta[case1] , -m**2)\n",
    "    result[case2] = ellipeinc(theta[case2], -m**2)\n",
    "    return result"
   ]
  },
  {
   "cell_type": "code",
   "execution_count": 6,
   "metadata": {},
   "outputs": [],
   "source": [
    "def k_theta(theta, m):\n",
    "    \"\"\"\n",
    "    Parameters\n",
    "    \"\"\"\n",
    "    # I could make this a class and make j just once\n",
    "    j = np.arange(theta.size)+1\n",
    "    result = theta+0\n",
    "    numerator = (2.*j-1)*np.pi - m*S_length(theta, m)\n",
    "    denom = m*np.sqrt(1.+m**2*np.sin(theta)**2)\n",
    "    result += numerator/denom\n",
    "    # Make sure we don't wrap around in crazy ways\n",
    "    result = result % (np.pi)\n",
    "    return result\n"
   ]
  },
  {
   "cell_type": "code",
   "execution_count": 7,
   "metadata": {},
   "outputs": [],
   "source": [
    "j = np.arange(n)+1\n",
    "theta_init = np.arccos(1.-(2*j-1)/n)"
   ]
  },
  {
   "cell_type": "code",
   "execution_count": 8,
   "metadata": {},
   "outputs": [],
   "source": [
    "theta = theta_init\n",
    "for i in range(10):\n",
    "    theta = k_theta(theta, ms[-1])"
   ]
  },
  {
   "cell_type": "code",
   "execution_count": 9,
   "metadata": {},
   "outputs": [],
   "source": [
    "phi = ms[-1]*theta % (2.*np.pi)  # phi is longitude (or RA). z=cos(theta). so dec = pi/2 - theta"
   ]
  },
  {
   "cell_type": "code",
   "execution_count": 10,
   "metadata": {},
   "outputs": [],
   "source": [
    "def theta2dec(theta):\n",
    "    dec = np.pi/2. - theta\n",
    "    return dec"
   ]
  },
  {
   "cell_type": "code",
   "execution_count": null,
   "metadata": {},
   "outputs": [],
   "source": []
  },
  {
   "cell_type": "code",
   "execution_count": 11,
   "metadata": {},
   "outputs": [
    {
     "data": {
      "text/plain": [
       "array([  0.00000000e+00,   0.00000000e+00,  -1.11022302e-16,\n",
       "         1.11022302e-16,   0.00000000e+00,   2.22044605e-16,\n",
       "         2.22044605e-16,  -4.44089210e-16,   2.22044605e-16,\n",
       "         2.22044605e-16,  -2.22044605e-16,   2.22044605e-16,\n",
       "         0.00000000e+00,   0.00000000e+00,   4.44089210e-16,\n",
       "         4.44089210e-16,   0.00000000e+00,   0.00000000e+00,\n",
       "         0.00000000e+00,   8.88178420e-16])"
      ]
     },
     "execution_count": 11,
     "metadata": {},
     "output_type": "execute_result"
    }
   ],
   "source": [
    "theta - k_theta(theta, ms[-1])"
   ]
  },
  {
   "cell_type": "code",
   "execution_count": 12,
   "metadata": {},
   "outputs": [],
   "source": [
    "dec = theta2dec(theta)"
   ]
  },
  {
   "cell_type": "code",
   "execution_count": 13,
   "metadata": {},
   "outputs": [
    {
     "data": {
      "text/plain": [
       "array([ 1.30347023,  1.04858044,  0.87258193,  0.726781  ,  0.59749671,\n",
       "        0.47853012,  0.36639067,  0.25882034,  0.15419281,  0.05121951,\n",
       "       -0.05121951, -0.15419281, -0.25882034, -0.36639067, -0.47853012,\n",
       "       -0.59749671, -0.726781  , -0.87258193, -1.04858044, -1.30347023])"
      ]
     },
     "execution_count": 13,
     "metadata": {},
     "output_type": "execute_result"
    }
   ],
   "source": [
    "dec"
   ]
  },
  {
   "cell_type": "code",
   "execution_count": null,
   "metadata": {},
   "outputs": [],
   "source": []
  },
  {
   "cell_type": "code",
   "execution_count": 14,
   "metadata": {},
   "outputs": [
    {
     "data": {
      "text/plain": [
       "array([ 2.08555975,  4.074097  ,  5.44715941,  0.30144839,  1.31006713,\n",
       "        2.23819182,  3.11305407,  3.95227013,  4.76852782,  5.57187988,\n",
       "        0.08787839,  0.89123046,  1.70748815,  2.54670421,  3.42156646,\n",
       "        4.34969115,  5.35830989,  0.21259887,  1.58566128,  3.57419853])"
      ]
     },
     "execution_count": 14,
     "metadata": {},
     "output_type": "execute_result"
    }
   ],
   "source": [
    "phi"
   ]
  },
  {
   "cell_type": "code",
   "execution_count": 8,
   "metadata": {},
   "outputs": [],
   "source": [
    "# let's wrap it up in a class\n",
    "class make_spiral(object):\n",
    "    \"\"\"\n",
    "    Find a solution for drawing a spiral of evenly spaced points on a sphere.\n",
    "    \n",
    "    Based on: \n",
    "    Koay, Cheng Guan. “Analytically Exact Spiral Scheme for \n",
    "    Generating Uniformly Distributed Points on the Unit Sphere.” \n",
    "    Journal of computational science 2.1 (2011): 88–91. PMC. Web. 1 June 2018.\n",
    "    https://www.ncbi.nlm.nih.gov/pmc/articles/PMC3079956/\n",
    "    \"\"\"\n",
    "    def __init__(self, n, ttol=1e-10, niter=20):\n",
    "        self.n = n\n",
    "        self.j = np.arange(n) + 1\n",
    "        # Initial guess\n",
    "        self.m = np.sqrt(n*np.pi)\n",
    "        \n",
    "        # iterate to solve for m\n",
    "        for i in range(niter):\n",
    "            m_old = self.m + 0\n",
    "            self.m = self.k_m(self.m)\n",
    "        # if we haven't reached specified tolerance\n",
    "        while np.abs(m_old-self.m) > ttol:\n",
    "            m_old = self.m + 0\n",
    "            self.m = self.k_m(self.m)\n",
    "            \n",
    "        theta = np.arccos(1.-(2*self.j-1)/self.n)\n",
    "        for i in range(niter):\n",
    "            theta_old = theta + 0\n",
    "            theta = self.k_theta(theta)\n",
    "        while np.max(np.abs(theta-theta_old)) > ttol:\n",
    "            theta_old = theta + 0\n",
    "            theta = self.k_theta(theta)\n",
    "            \n",
    "        self.theta = theta\n",
    "        \n",
    "    def __call__(self):\n",
    "        \n",
    "        ra = self.m*self.theta % (2.*np.pi)\n",
    "        dec = np.pi/2. - self.theta\n",
    "        return ra, dec\n",
    "        \n",
    "    def k_m(self, m):\n",
    "        \"\"\"\n",
    "        Appendix A\n",
    "        \n",
    "        Parameters\n",
    "        ----------\n",
    "        m : float\n",
    "            The value to iterate\n",
    "        \"\"\"\n",
    "        numerator = m*np.pi*self.n\n",
    "        numerator *= (2.*ellipe(-m**2) - ellipk(-m**2))\n",
    "        denom = self.n*np.pi*ellipe(-m**2)\n",
    "        denom -= self.n*np.pi*ellipk(-m**2)\n",
    "        denom += m*ellipe(-m**2)**2\n",
    "        result = numerator/denom\n",
    "        return result\n",
    "    \n",
    "    def S_length(self, theta):\n",
    "        \"\"\"\n",
    "        Where theta is an array\n",
    "        \"\"\"\n",
    "        case1 = np.where((theta > np.pi/2.) & (theta <= np.pi))\n",
    "        case2 = np.where((theta >= 0.) & (theta <= np.pi/2.))\n",
    "\n",
    "        result = theta*0\n",
    "        result[case1] = 2.*ellipe(-self.m**2) - ellipeinc(np.pi-theta[case1] , -self.m**2)\n",
    "        result[case2] = ellipeinc(theta[case2], -self.m**2)\n",
    "        return result\n",
    "    \n",
    "    def k_theta(self, theta):\n",
    "        \"\"\"\n",
    "        Parameters\n",
    "        \"\"\"\n",
    "        result = theta+0\n",
    "        numerator = (2.*self.j-1)*np.pi - self.m*self.S_length(theta)\n",
    "        denom = self.m*np.sqrt(1.+self.m**2*np.sin(theta)**2)\n",
    "        result += numerator/denom\n",
    "        # Make sure we don't wrap around in crazy ways\n",
    "        result = result % (np.pi)\n",
    "        return result\n",
    "    \n",
    "    "
   ]
  },
  {
   "cell_type": "code",
   "execution_count": 13,
   "metadata": {},
   "outputs": [],
   "source": [
    "spiral = make_spiral(1000)"
   ]
  },
  {
   "cell_type": "code",
   "execution_count": 14,
   "metadata": {},
   "outputs": [],
   "source": [
    "ra, dec = spiral()"
   ]
  },
  {
   "cell_type": "code",
   "execution_count": 15,
   "metadata": {},
   "outputs": [
    {
     "data": {
      "text/plain": [
       "[<matplotlib.lines.Line2D at 0x11c26c908>]"
      ]
     },
     "execution_count": 15,
     "metadata": {},
     "output_type": "execute_result"
    },
    {
     "data": {
      "image/png": "[encoded data removed]",
      "text/plain": [
       "<matplotlib.figure.Figure at 0x118d14898>"
      ]
     },
     "metadata": {},
     "output_type": "display_data"
    }
   ],
   "source": [
    "plt.plot(ra, dec, 'k.')"
   ]
  },
  {
   "cell_type": "code",
   "execution_count": 16,
   "metadata": {},
   "outputs": [],
   "source": [
    "import lsst.sims.maf.metrics as metrics\n",
    "import lsst.sims.maf.slicers as slicers\n",
    "import lsst.sims.maf.metricBundles as metricBundles"
   ]
  },
  {
   "cell_type": "code",
   "execution_count": 34,
   "metadata": {},
   "outputs": [
    {
     "name": "stdout",
     "output_type": "stream",
     "text": [
      "Healpix slicer using NSIDE=512, approximate resolution 6.870973 arcminutes\n"
     ]
    }
   ],
   "source": [
    "bundleList = []\n",
    "\n",
    "metric = metrics.CountMetric(col='ra')\n",
    "slicer = slicers.HealpixSlicer(lonCol='ra', latCol='dec', nside=512)\n",
    "sql = ''\n",
    "\n",
    "bundleList.append(metricBundles.MetricBundle(metric,slicer,sql))"
   ]
  },
  {
   "cell_type": "code",
   "execution_count": 35,
   "metadata": {},
   "outputs": [
    {
     "name": "stderr",
     "output_type": "stream",
     "text": [
      "/Users/yoachim/gitRepos/sims_maf/python/lsst/sims/maf/metricBundles/metricBundleGroup.py:107: UserWarning: Warning: dbObj should be an instantiated Database (or child) object.\n",
      "  warnings.warn('Warning: dbObj should be an instantiated Database (or child) object.')\n"
     ]
    }
   ],
   "source": [
    "bd = metricBundles.makeBundlesDictFromList(bundleList)\n",
    "conn = None\n",
    "bg = metricBundles.MetricBundleGroup(bd, conn)"
   ]
  },
  {
   "cell_type": "code",
   "execution_count": 48,
   "metadata": {},
   "outputs": [],
   "source": [
    "spiral = make_spiral(5200)\n",
    "ra, dec = spiral()\n",
    "names =['ra', 'dec']\n",
    "types = [float, float]\n",
    "data = np.zeros(ra.size, dtype = list(zip(names, types)))\n",
    "data['ra'] = np.degrees(ra)\n",
    "data['dec'] = np.degrees(dec)\n"
   ]
  },
  {
   "cell_type": "code",
   "execution_count": 49,
   "metadata": {},
   "outputs": [
    {
     "name": "stdout",
     "output_type": "stream",
     "text": [
      "Running:  ['opsim_Count_ra_HEAL']\n",
      "Completed metric generation.\n",
      "Running reduce methods.\n",
      "Running summary statistics.\n",
      "Completed.\n"
     ]
    }
   ],
   "source": [
    "bg.setCurrent('')\n",
    "bg.runCurrent('', simData=data)"
   ]
  },
  {
   "cell_type": "code",
   "execution_count": 50,
   "metadata": {},
   "outputs": [
    {
     "name": "stdout",
     "output_type": "stream",
     "text": [
      "Plotting figures with \"\" constraint now.\n"
     ]
    },
    {
     "name": "stderr",
     "output_type": "stream",
     "text": [
      "/Users/yoachim/gitRepos/sims_maf/python/lsst/sims/maf/utils/mafUtils.py:58: RuntimeWarning: divide by zero encountered in double_scalars\n",
      "  nbins = (binmax - binmin) / binwidth\n",
      "/Users/yoachim/gitRepos/sims_maf/python/lsst/sims/maf/utils/mafUtils.py:60: UserWarning: Optimal bin calculation tried to make inf bins, returning 200\n",
      "  warnings.warn('Optimal bin calculation tried to make %.0f bins, returning %i'%(nbins, nbinMax))\n"
     ]
    },
    {
     "name": "stdout",
     "output_type": "stream",
     "text": [
      "monopole: 1.2277  dipole: lon: -20.0253, lat: -6.05823, amp: 0.0005368\n",
      "Plotting complete.\n"
     ]
    },
    {
     "data": {
      "image/png": "[encoded data removed]",
      "text/plain": [
       "<matplotlib.figure.Figure at 0x11d6e08d0>"
      ]
     },
     "metadata": {},
     "output_type": "display_data"
    },
    {
     "data": {
      "image/png": "[encoded data removed]",
      "text/plain": [
       "<matplotlib.figure.Figure at 0x1577797b8>"
      ]
     },
     "metadata": {},
     "output_type": "display_data"
    },
    {
     "data": {
      "image/png": "[encoded data removed]",
      "text/plain": [
       "<matplotlib.figure.Figure at 0x10f6c7080>"
      ]
     },
     "metadata": {},
     "output_type": "display_data"
    }
   ],
   "source": [
    "bg.plotAll(closefigs=False)"
   ]
  },
  {
   "cell_type": "code",
   "execution_count": null,
   "metadata": {},
   "outputs": [],
   "source": []
  },
  {
   "cell_type": "code",
   "execution_count": null,
   "metadata": {},
   "outputs": [],
   "source": []
  }
 ],
 "metadata": {
  "kernelspec": {
   "display_name": "Python 3",
   "language": "python",
   "name": "python3"
  },
  "language_info": {
   "codemirror_mode": {
    "name": "ipython",
    "version": 3
   },
   "file_extension": ".py",
   "mimetype": "text/x-python",
   "name": "python",
   "nbconvert_exporter": "python",
   "pygments_lexer": "ipython3",
   "version": "3.6.2"
  }
 },
 "nbformat": 4,
 "nbformat_minor": 2
}
